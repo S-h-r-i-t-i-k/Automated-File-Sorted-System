{
 "cells": [
  {
   "cell_type": "code",
   "execution_count": 89,
   "id": "bde312b3-4f7f-4205-8a68-9eb299d23ce7",
   "metadata": {},
   "outputs": [],
   "source": [
    "import os, shutil"
   ]
  },
  {
   "cell_type": "code",
   "execution_count": 91,
   "id": "598677e8-b0f4-4ac4-a9e7-70fe344d4687",
   "metadata": {},
   "outputs": [],
   "source": [
    "src_dir= r\"/Users/shritik/Desktop/Python Misc projects\""
   ]
  },
  {
   "cell_type": "code",
   "execution_count": 97,
   "id": "d83d4c48-7a8b-40ba-95c9-8e24b7a1f860",
   "metadata": {},
   "outputs": [],
   "source": [
    "try:\n",
    "    file_list= os.listdir(src_dir)\n",
    "\n",
    "    # create a folder for each file extension\n",
    "    for file in file_list:\n",
    "        file_extension= os.path.splitext(file)[1][1:]\n",
    "        dest_folder= os.path.join(src_dir, file_extension)\n",
    "        if not os.path.exists(dest_folder):\n",
    "            os.makedirs(dest_folder)\n",
    "\n",
    "        # move the file to the appropriate folder\n",
    "        src_path= os.path.join(src_dir, file)\n",
    "        dest_path= os.path.join(dest_folder, file)\n",
    "        shutil.move(src_path, dest_path)\n",
    "except Exception as e:\n",
    "    print(f\"An error ocurred while sorting the files:{e}\")\n"
   ]
  },
  {
   "cell_type": "code",
   "execution_count": null,
   "id": "633d5e5b-13cc-4c59-a036-0b3eca797987",
   "metadata": {},
   "outputs": [],
   "source": []
  }
 ],
 "metadata": {
  "kernelspec": {
   "display_name": "Python 3 (ipykernel)",
   "language": "python",
   "name": "python3"
  },
  "language_info": {
   "codemirror_mode": {
    "name": "ipython",
    "version": 3
   },
   "file_extension": ".py",
   "mimetype": "text/x-python",
   "name": "python",
   "nbconvert_exporter": "python",
   "pygments_lexer": "ipython3",
   "version": "3.11.5"
  }
 },
 "nbformat": 4,
 "nbformat_minor": 5
}
